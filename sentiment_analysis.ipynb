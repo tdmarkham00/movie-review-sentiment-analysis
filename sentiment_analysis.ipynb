{
 "cells": [
  {
   "cell_type": "code",
   "execution_count": 39,
   "metadata": {},
   "outputs": [],
   "source": [
    "import pandas as pd\n",
    "import numpy as np\n",
    "from os import getcwd\n",
    "from sklearn.model_selection import train_test_split, GridSearchCV\n",
    "from sklearn.linear_model import LogisticRegression\n",
    "from sklearn.preprocessing import StandardScaler\n",
    "from sklearn.pipeline import Pipeline\n",
    "from sklearn.metrics import roc_auc_score, f1_score, accuracy_score, precision_score, confusion_matrix\n",
    "from sklearn.neighbors import KNeighborsClassifier\n",
    "from sklearn.ensemble import RandomForestClassifier\n",
    "from sklearn.feature_extraction.text import CountVectorizer\n",
    "from sklearn.naive_bayes import BernoulliNB"
   ]
  },
  {
   "attachments": {},
   "cell_type": "markdown",
   "metadata": {},
   "source": [
    "Movie Reviews"
   ]
  },
  {
   "cell_type": "code",
   "execution_count": 2,
   "metadata": {},
   "outputs": [],
   "source": [
    "sw_file = f\"{getcwd()}/stopwords.txt\"\n",
    "with open(sw_file, 'r') as file:\n",
    "    content = file.read()\n",
    "    sw = content.split(',')"
   ]
  },
  {
   "cell_type": "code",
   "execution_count": 3,
   "metadata": {},
   "outputs": [],
   "source": [
    "df = pd.read_table('https://raw.githubusercontent.com/esnt/Data/main/MovieReviews/moviereviews.tsv', sep='\\t')\n",
    "df = df.dropna()"
   ]
  },
  {
   "cell_type": "code",
   "execution_count": null,
   "metadata": {},
   "outputs": [],
   "source": [
    "vectorizer = CountVectorizer(min_df=100, max_df=.7, ngram_range=(1,2), binary=True, stop_words=sw)\n",
    "target = df['label']\n",
    "feature = vectorizer.fit_transform(df['review']) \n",
    "x_train, x_test, y_train, y_test = train_test_split(feature, target, test_size=.3, random_state=713)"
   ]
  },
  {
   "attachments": {},
   "cell_type": "markdown",
   "metadata": {},
   "source": [
    "Naive Bayes"
   ]
  },
  {
   "cell_type": "code",
   "execution_count": 5,
   "metadata": {},
   "outputs": [
    {
     "name": "stdout",
     "output_type": "stream",
     "text": [
      "Predicted Accuracy: 0.896\n",
      "F1: 0.896\n",
      "AUC: 0.956\n"
     ]
    }
   ],
   "source": [
    "pipe = Pipeline([\n",
    "    ('scale', StandardScaler(with_mean=False)),\n",
    "    ('model', BernoulliNB())\n",
    "])\n",
    "\n",
    "params = {'model__alpha': list(np.arange(.1,1.1,.1))}\n",
    "search = GridSearchCV(pipe, param_grid=params, n_jobs=-1, scoring='f1_weighted')\n",
    "search.fit(x_train,y_train)\n",
    "preds = search.predict(x_test)\n",
    "accuracy = round(accuracy_score(y_true=y_test, y_pred=preds),3)\n",
    "auc = round(roc_auc_score(y_test, search.predict_proba(x_test)[:,1]),3)\n",
    "f1 = round(f1_score(y_test, preds, average='weighted'),3)\n",
    "print(f\"Predicted Accuracy: {accuracy}\")\n",
    "print(f\"F1: {f1}\")\n",
    "print(f\"AUC: {auc}\")"
   ]
  },
  {
   "attachments": {},
   "cell_type": "markdown",
   "metadata": {},
   "source": [
    "Logistic"
   ]
  },
  {
   "cell_type": "code",
   "execution_count": 6,
   "metadata": {},
   "outputs": [
    {
     "name": "stdout",
     "output_type": "stream",
     "text": [
      "Predicted Accuracy: 0.888\n",
      "F1: 0.888\n",
      "AUC: 0.95\n"
     ]
    }
   ],
   "source": [
    "pipe = Pipeline([\n",
    "    ('scale', StandardScaler(with_mean=False)),\n",
    "    ('model', LogisticRegression(solver='liblinear', penalty='l1'))\n",
    "])\n",
    "\n",
    "params = {'model__C': list(np.arange(.1,1,.1))}\n",
    "search = GridSearchCV(pipe, param_grid=params, n_jobs=-1, scoring='roc_auc')\n",
    "search.fit(x_train,y_train)\n",
    "preds = search.predict(x_test)\n",
    "accuracy = round(accuracy_score(y_true=y_test, y_pred=preds),3)\n",
    "auc = round(roc_auc_score(y_test, search.predict_proba(x_test)[:,1]),3)\n",
    "f1 = round(f1_score(y_test, preds, average='weighted'),3)\n",
    "print(f\"Predicted Accuracy: {accuracy}\")\n",
    "print(f\"F1: {f1}\")\n",
    "print(f\"AUC: {auc}\")"
   ]
  },
  {
   "attachments": {},
   "cell_type": "markdown",
   "metadata": {},
   "source": [
    "Most influential words (indentified by logistic regression)"
   ]
  },
  {
   "cell_type": "code",
   "execution_count": 7,
   "metadata": {},
   "outputs": [],
   "source": [
    "lr = LogisticRegression(solver='liblinear', penalty='l1', C=search.best_params_.get('model__C'))\n",
    "lr.fit(x_train,y_train)\n",
    "cf = pd.Series(lr.coef_[0], index=vectorizer.get_feature_names_out())"
   ]
  },
  {
   "cell_type": "code",
   "execution_count": 8,
   "metadata": {},
   "outputs": [
    {
     "data": {
      "text/plain": [
       "worst    -2.051545\n",
       "waste    -1.846752\n",
       "bad      -1.290796\n",
       "awful    -1.249790\n",
       "boring   -1.009866\n",
       "dtype: float64"
      ]
     },
     "execution_count": 8,
     "metadata": {},
     "output_type": "execute_result"
    }
   ],
   "source": [
    "# Printing the most inluential negative words\n",
    "cf.sort_values().head()"
   ]
  },
  {
   "cell_type": "code",
   "execution_count": 9,
   "metadata": {},
   "outputs": [
    {
     "data": {
      "text/plain": [
       "perfect      1.076233\n",
       "excellent    1.068911\n",
       "highly       1.043415\n",
       "10 10        0.920255\n",
       "great        0.873050\n",
       "dtype: float64"
      ]
     },
     "execution_count": 9,
     "metadata": {},
     "output_type": "execute_result"
    }
   ],
   "source": [
    "# Printing the most inluential positive words\n",
    "cf.sort_values(ascending=False).head()"
   ]
  },
  {
   "attachments": {},
   "cell_type": "markdown",
   "metadata": {},
   "source": [
    "k-NN"
   ]
  },
  {
   "cell_type": "code",
   "execution_count": 11,
   "metadata": {},
   "outputs": [
    {
     "name": "stdout",
     "output_type": "stream",
     "text": [
      "Predicted Accuracy: 0.868\n",
      "F1: 0.868\n",
      "AUC: 0.944\n"
     ]
    }
   ],
   "source": [
    "pipe = Pipeline([\n",
    "    ('scale', StandardScaler(with_mean=False)),\n",
    "    ('model', KNeighborsClassifier(metric='cosine'))\n",
    "])\n",
    "\n",
    "params = {'model__n_neighbors' : list(range(45,66,1))}\n",
    "search = GridSearchCV(pipe, param_grid=params, n_jobs=-1, scoring='roc_auc')\n",
    "search.fit(x_train,y_train)\n",
    "preds = search.predict(x_test)\n",
    "accuracy = round(accuracy_score(y_true=y_test, y_pred=preds),3)\n",
    "auc = round(roc_auc_score(y_test, search.predict_proba(x_test)[:,1]),3)\n",
    "f1 = round(f1_score(y_test, preds, average='weighted'),3)\n",
    "print(f\"Predicted Accuracy: {accuracy}\")\n",
    "print(f\"F1: {f1}\")\n",
    "print(f\"AUC: {auc}\")\n"
   ]
  }
 ],
 "metadata": {
  "kernelspec": {
   "display_name": "Python 3",
   "language": "python",
   "name": "python3"
  },
  "language_info": {
   "codemirror_mode": {
    "name": "ipython",
    "version": 3
   },
   "file_extension": ".py",
   "mimetype": "text/x-python",
   "name": "python",
   "nbconvert_exporter": "python",
   "pygments_lexer": "ipython3",
   "version": "3.10.2"
  },
  "orig_nbformat": 4,
  "vscode": {
   "interpreter": {
    "hash": "aee8b7b246df8f9039afb4144a1f6fd8d2ca17a180786b69acc140d282b71a49"
   }
  }
 },
 "nbformat": 4,
 "nbformat_minor": 2
}
